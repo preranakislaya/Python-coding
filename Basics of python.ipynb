{
 "cells": [
  {
   "cell_type": "code",
   "execution_count": 1,
   "id": "11ceb9b9",
   "metadata": {},
   "outputs": [
    {
     "name": "stdout",
     "output_type": "stream",
     "text": [
      "Hello world\n"
     ]
    }
   ],
   "source": [
    "print(\"Hello world\")"
   ]
  },
  {
   "cell_type": "code",
   "execution_count": 2,
   "id": "304a4237",
   "metadata": {},
   "outputs": [
    {
     "name": "stdout",
     "output_type": "stream",
     "text": [
      "Hello world\n"
     ]
    }
   ],
   "source": [
    "print('Hello world')"
   ]
  },
  {
   "cell_type": "code",
   "execution_count": 3,
   "id": "85e2c99e",
   "metadata": {},
   "outputs": [
    {
     "ename": "NameError",
     "evalue": "name 'Print' is not defined",
     "output_type": "error",
     "traceback": [
      "\u001b[1;31m---------------------------------------------------------------------------\u001b[0m",
      "\u001b[1;31mNameError\u001b[0m                                 Traceback (most recent call last)",
      "\u001b[1;32m<ipython-input-3-a25e85b3ea29>\u001b[0m in \u001b[0;36m<module>\u001b[1;34m\u001b[0m\n\u001b[1;32m----> 1\u001b[1;33m \u001b[0mPrint\u001b[0m\u001b[1;33m(\u001b[0m\u001b[1;34m\"Hello world\"\u001b[0m\u001b[1;33m)\u001b[0m \u001b[1;31m#It should be 'print' not 'Print'.\u001b[0m\u001b[1;33m\u001b[0m\u001b[1;33m\u001b[0m\u001b[0m\n\u001b[0m",
      "\u001b[1;31mNameError\u001b[0m: name 'Print' is not defined"
     ]
    }
   ],
   "source": [
    "Print(\"Hello world\") #It should be 'print' not 'Print'."
   ]
  },
  {
   "cell_type": "code",
   "execution_count": null,
   "id": "5018b722",
   "metadata": {},
   "outputs": [],
   "source": [
    "print(Hellow world) #String must be defined with inverted comma."
   ]
  },
  {
   "cell_type": "code",
   "execution_count": null,
   "id": "c73d58c3",
   "metadata": {},
   "outputs": [],
   "source": [
    "print('I Love Bussiness Analytics')"
   ]
  },
  {
   "cell_type": "code",
   "execution_count": null,
   "id": "52c15dce",
   "metadata": {},
   "outputs": [],
   "source": [
    "5+12-3"
   ]
  },
  {
   "cell_type": "code",
   "execution_count": null,
   "id": "0c69f531",
   "metadata": {},
   "outputs": [],
   "source": [
    "5+12-3"
   ]
  },
  {
   "cell_type": "markdown",
   "id": "90f1a3b5",
   "metadata": {},
   "source": [
    "### Basics of Python"
   ]
  },
  {
   "cell_type": "markdown",
   "id": "6720f36d",
   "metadata": {},
   "source": [
    "### Basics of Python"
   ]
  },
  {
   "cell_type": "markdown",
   "id": "ca1c1281",
   "metadata": {},
   "source": [
    "# Basics of Python"
   ]
  },
  {
   "cell_type": "markdown",
   "id": "63a5073e",
   "metadata": {},
   "source": [
    "## Basics of Python "
   ]
  },
  {
   "cell_type": "markdown",
   "id": "97e392f2",
   "metadata": {},
   "source": [
    "#### Basics of Python "
   ]
  },
  {
   "cell_type": "code",
   "execution_count": null,
   "id": "42bec74e",
   "metadata": {},
   "outputs": [],
   "source": [
    "35+74-212+64"
   ]
  },
  {
   "cell_type": "code",
   "execution_count": null,
   "id": "f15f9d3d",
   "metadata": {},
   "outputs": [],
   "source": [
    "23+56-34"
   ]
  },
  {
   "cell_type": "code",
   "execution_count": null,
   "id": "898f2389",
   "metadata": {},
   "outputs": [],
   "source": [
    "a=5\n",
    "b=8\n",
    "c=a+b"
   ]
  },
  {
   "cell_type": "code",
   "execution_count": null,
   "id": "d9eb50cc",
   "metadata": {},
   "outputs": [],
   "source": [
    "c"
   ]
  },
  {
   "cell_type": "code",
   "execution_count": null,
   "id": "9bbc0976",
   "metadata": {},
   "outputs": [],
   "source": [
    "print(c)"
   ]
  },
  {
   "cell_type": "code",
   "execution_count": null,
   "id": "84357ad7",
   "metadata": {},
   "outputs": [],
   "source": [
    "x=17\n",
    "y=21\n",
    "sub=x-y\n",
    "sub"
   ]
  },
  {
   "cell_type": "code",
   "execution_count": null,
   "id": "b9256498",
   "metadata": {},
   "outputs": [],
   "source": [
    "a=5\n",
    "b=6\n",
    "c=a+b\n",
    "d=a-b\n",
    "c,d"
   ]
  },
  {
   "cell_type": "code",
   "execution_count": null,
   "id": "7f24e2cf",
   "metadata": {},
   "outputs": [],
   "source": [
    "c\n",
    "d"
   ]
  },
  {
   "cell_type": "code",
   "execution_count": null,
   "id": "1c07d8d1",
   "metadata": {},
   "outputs": [],
   "source": [
    "A=23\n",
    "B=13\n",
    "Diff=A-B\n",
    "Diff"
   ]
  },
  {
   "cell_type": "code",
   "execution_count": null,
   "id": "d72de4d3",
   "metadata": {},
   "outputs": [],
   "source": [
    "a=5\n",
    "A=4\n",
    "a+A"
   ]
  },
  {
   "cell_type": "code",
   "execution_count": null,
   "id": "f542ed03",
   "metadata": {},
   "outputs": [],
   "source": [
    "a=3+5+45+4+56\n",
    "a"
   ]
  },
  {
   "cell_type": "code",
   "execution_count": null,
   "id": "fc8b686b",
   "metadata": {},
   "outputs": [],
   "source": [
    "a=(3+5+45+4+56)\n",
    "a"
   ]
  },
  {
   "cell_type": "code",
   "execution_count": null,
   "id": "5c8cc752",
   "metadata": {},
   "outputs": [],
   "source": [
    "a,b,c=23,54,\"Hi\"\n",
    "b,c"
   ]
  },
  {
   "cell_type": "code",
   "execution_count": null,
   "id": "8d4691d9",
   "metadata": {},
   "outputs": [],
   "source": [
    "a=b=c='Test'\n",
    "b"
   ]
  },
  {
   "cell_type": "markdown",
   "id": "a30752ea",
   "metadata": {},
   "source": [
    "### Data Types"
   ]
  },
  {
   "cell_type": "code",
   "execution_count": null,
   "id": "cbbf2d90",
   "metadata": {},
   "outputs": [],
   "source": [
    "Name=Prerana"
   ]
  },
  {
   "cell_type": "code",
   "execution_count": null,
   "id": "f173500c",
   "metadata": {},
   "outputs": [],
   "source": [
    "Name='Prerana'"
   ]
  },
  {
   "cell_type": "code",
   "execution_count": null,
   "id": "72a719fd",
   "metadata": {},
   "outputs": [],
   "source": [
    "Name"
   ]
  },
  {
   "cell_type": "code",
   "execution_count": null,
   "id": "15260db7",
   "metadata": {},
   "outputs": [],
   "source": [
    "a='Prerana' # Prerana is a string(text)\n",
    "type(a)"
   ]
  },
  {
   "cell_type": "code",
   "execution_count": null,
   "id": "251d1658",
   "metadata": {},
   "outputs": [],
   "source": [
    "b=5.2 #Float-there is a decimal point\n",
    "type(b)"
   ]
  },
  {
   "cell_type": "code",
   "execution_count": null,
   "id": "fb8a5f16",
   "metadata": {},
   "outputs": [],
   "source": [
    "c=3 #Integer-no decimal\n",
    "type(c)"
   ]
  },
  {
   "cell_type": "code",
   "execution_count": null,
   "id": "fdbc804d",
   "metadata": {},
   "outputs": [],
   "source": [
    "d=2j #j-complex\n",
    "type(d)"
   ]
  },
  {
   "cell_type": "code",
   "execution_count": null,
   "id": "d57a5069",
   "metadata": {},
   "outputs": [],
   "source": [
    "a=45\n",
    "b=1-3j\n",
    "c=54.7\n",
    "d=True\n",
    "e=\"Raj\"\n",
    "f=\"True\""
   ]
  },
  {
   "cell_type": "code",
   "execution_count": null,
   "id": "7cdff969",
   "metadata": {},
   "outputs": [],
   "source": [
    "type(a)"
   ]
  },
  {
   "cell_type": "code",
   "execution_count": null,
   "id": "bf72b2c0",
   "metadata": {},
   "outputs": [],
   "source": [
    "type(b)"
   ]
  },
  {
   "cell_type": "code",
   "execution_count": null,
   "id": "c272d006",
   "metadata": {},
   "outputs": [],
   "source": [
    "type(c)"
   ]
  },
  {
   "cell_type": "code",
   "execution_count": null,
   "id": "28e4c8ae",
   "metadata": {},
   "outputs": [],
   "source": [
    "type(d)"
   ]
  },
  {
   "cell_type": "code",
   "execution_count": null,
   "id": "8e9623d8",
   "metadata": {},
   "outputs": [],
   "source": [
    "type(e)"
   ]
  },
  {
   "cell_type": "code",
   "execution_count": null,
   "id": "f28b08f5",
   "metadata": {},
   "outputs": [],
   "source": [
    "type(f)"
   ]
  },
  {
   "cell_type": "code",
   "execution_count": null,
   "id": "3e6fb933",
   "metadata": {},
   "outputs": [],
   "source": [
    "type(a,b,c,d,e,f)"
   ]
  },
  {
   "cell_type": "code",
   "execution_count": null,
   "id": "ce7e51b0",
   "metadata": {},
   "outputs": [],
   "source": [
    "type(a),type(b),type(c),type(d),type(e),type(f)"
   ]
  },
  {
   "cell_type": "code",
   "execution_count": null,
   "id": "04aec65e",
   "metadata": {},
   "outputs": [],
   "source": [
    "x=67\n",
    "y=45\n",
    "sum=x+y\n",
    "print(type(sum),sum)"
   ]
  },
  {
   "cell_type": "code",
   "execution_count": null,
   "id": "27ccbdad",
   "metadata": {},
   "outputs": [],
   "source": [
    "x=hello\n",
    "type(x)"
   ]
  },
  {
   "cell_type": "code",
   "execution_count": null,
   "id": "1801ce2f",
   "metadata": {},
   "outputs": [],
   "source": [
    "x='hello'\n",
    "type(x)"
   ]
  },
  {
   "cell_type": "markdown",
   "id": "3ea54c0a",
   "metadata": {},
   "source": [
    "### Data Structures"
   ]
  },
  {
   "cell_type": "code",
   "execution_count": null,
   "id": "62629ae2",
   "metadata": {},
   "outputs": [],
   "source": [
    "x = (\"apple\",\"banana\",\"cherry\")\n",
    "type(x)"
   ]
  },
  {
   "cell_type": "code",
   "execution_count": null,
   "id": "639d1ed9",
   "metadata": {},
   "outputs": [],
   "source": [
    "x=[\"apple\",\"banana\",\"cherry\"]\n",
    "type(x)"
   ]
  },
  {
   "cell_type": "code",
   "execution_count": null,
   "id": "ef9724de",
   "metadata": {},
   "outputs": [],
   "source": [
    "x = {\"name\" : \"John\" , \"age\" : 36} #dict = dictionary\n",
    "type(x)"
   ]
  },
  {
   "cell_type": "code",
   "execution_count": null,
   "id": "fea281e5",
   "metadata": {},
   "outputs": [],
   "source": [
    "x={\"apple\",\"banana\",\"cherry\"}\n",
    "type(x)"
   ]
  },
  {
   "cell_type": "markdown",
   "id": "cdcfd4af",
   "metadata": {},
   "source": [
    "#### #list \"\"\"\n",
    "      \n",
    "       1. Allows Heterogenous\n",
    "       2. Index start from 0\n",
    "       3. Mutable using index\n",
    "       4. []\"\"\"\n",
    "    "
   ]
  },
  {
   "cell_type": "code",
   "execution_count": null,
   "id": "70d8bbff",
   "metadata": {},
   "outputs": [],
   "source": [
    "sample_list=[12,43,56,\"hi\",1+2j,6.7]\n",
    "sample_list"
   ]
  },
  {
   "cell_type": "code",
   "execution_count": null,
   "id": "7b30cdd3",
   "metadata": {},
   "outputs": [],
   "source": [
    "type(sample_list)"
   ]
  },
  {
   "cell_type": "code",
   "execution_count": null,
   "id": "91121593",
   "metadata": {},
   "outputs": [],
   "source": [
    "sample_list[0]"
   ]
  },
  {
   "cell_type": "code",
   "execution_count": null,
   "id": "8abd8281",
   "metadata": {},
   "outputs": [],
   "source": [
    "sample_list[3]"
   ]
  },
  {
   "cell_type": "code",
   "execution_count": null,
   "id": "fd6a3700",
   "metadata": {},
   "outputs": [],
   "source": [
    "sample_list[10]"
   ]
  },
  {
   "cell_type": "code",
   "execution_count": null,
   "id": "3be5ae9a",
   "metadata": {},
   "outputs": [],
   "source": [
    "sample_list[20]"
   ]
  },
  {
   "cell_type": "code",
   "execution_count": null,
   "id": "f1bd1230",
   "metadata": {},
   "outputs": [],
   "source": [
    "sample_list[2]"
   ]
  },
  {
   "cell_type": "code",
   "execution_count": null,
   "id": "38fac62b",
   "metadata": {},
   "outputs": [],
   "source": [
    "sample_list[2] = 3.5"
   ]
  },
  {
   "cell_type": "code",
   "execution_count": null,
   "id": "1e4ecc32",
   "metadata": {},
   "outputs": [],
   "source": [
    "sample_list"
   ]
  },
  {
   "cell_type": "code",
   "execution_count": null,
   "id": "102f07da",
   "metadata": {},
   "outputs": [],
   "source": [
    "sample_list[4] =100\n",
    "sample_list"
   ]
  },
  {
   "cell_type": "code",
   "execution_count": null,
   "id": "66f1ff37",
   "metadata": {},
   "outputs": [],
   "source": [
    "sample_list.reverse()"
   ]
  },
  {
   "cell_type": "code",
   "execution_count": null,
   "id": "b6e4b75d",
   "metadata": {},
   "outputs": [],
   "source": [
    "sample_list"
   ]
  },
  {
   "cell_type": "code",
   "execution_count": null,
   "id": "7d4ce16b",
   "metadata": {},
   "outputs": [],
   "source": [
    "sample_list=[21,34,65,12,8.8]"
   ]
  },
  {
   "cell_type": "code",
   "execution_count": null,
   "id": "f8263ac6",
   "metadata": {},
   "outputs": [],
   "source": [
    "sample_list.sort()\n",
    "sample_list"
   ]
  },
  {
   "cell_type": "markdown",
   "id": "af764fd9",
   "metadata": {},
   "source": [
    "#### #Tuple\n",
    "1. Allows Heterogenous\n",
    "2. Index starts from 0 and Retrieve using index\n",
    "3. Cannot change the data once declared - immutable\n",
    "4. ()\n"
   ]
  },
  {
   "cell_type": "code",
   "execution_count": null,
   "id": "8a20e4e8",
   "metadata": {},
   "outputs": [],
   "source": [
    "sample_tuple =(1,56,3.5,\"hi\",1+2j)\n",
    "sample_tuple"
   ]
  },
  {
   "cell_type": "code",
   "execution_count": null,
   "id": "000d8378",
   "metadata": {},
   "outputs": [],
   "source": [
    "sample_tuple = 1,56,3.5,\"hi\",1+2j\n",
    "sample_tuple"
   ]
  },
  {
   "cell_type": "code",
   "execution_count": null,
   "id": "e8ca14bb",
   "metadata": {},
   "outputs": [],
   "source": [
    "type(sample_tuple)"
   ]
  },
  {
   "cell_type": "code",
   "execution_count": null,
   "id": "386fc481",
   "metadata": {},
   "outputs": [],
   "source": [
    "sample_tuple[4]"
   ]
  },
  {
   "cell_type": "code",
   "execution_count": null,
   "id": "ec13b306",
   "metadata": {},
   "outputs": [],
   "source": [
    "sample_tuple.reverse()"
   ]
  },
  {
   "cell_type": "code",
   "execution_count": null,
   "id": "47ee3e26",
   "metadata": {},
   "outputs": [],
   "source": [
    "sample_tuple[3]"
   ]
  },
  {
   "cell_type": "code",
   "execution_count": null,
   "id": "5a12c68c",
   "metadata": {},
   "outputs": [],
   "source": [
    "sample_tuple[3] = 13"
   ]
  },
  {
   "cell_type": "code",
   "execution_count": null,
   "id": "2281bbbb",
   "metadata": {},
   "outputs": [],
   "source": [
    "sample_tuple[5] = 100"
   ]
  },
  {
   "cell_type": "code",
   "execution_count": null,
   "id": "0639736c",
   "metadata": {},
   "outputs": [],
   "source": [
    "x=(1,2,3)\n",
    "y=list(x)\n",
    "y,type(y)"
   ]
  },
  {
   "cell_type": "code",
   "execution_count": null,
   "id": "8301e45d",
   "metadata": {},
   "outputs": [],
   "source": [
    " y.remove(3)\n",
    " y   "
   ]
  },
  {
   "cell_type": "code",
   "execution_count": null,
   "id": "a10d4534",
   "metadata": {},
   "outputs": [],
   "source": [
    "y.add(34)\n",
    "y"
   ]
  },
  {
   "cell_type": "code",
   "execution_count": null,
   "id": "21ec2526",
   "metadata": {},
   "outputs": [],
   "source": [
    "y.append(34)\n",
    "y"
   ]
  },
  {
   "cell_type": "markdown",
   "id": "a1ff827b",
   "metadata": {},
   "source": [
    "#### #Set\n",
    "\"\"\"\n",
    "1. Add heterogenous\n",
    "2. Does not allow duplicates\n",
    "3. Cannot access using index\n",
    "4. Immutable using index\n",
    "5. Ordered using first digit of no\n",
    "\n",
    "\"\"\""
   ]
  },
  {
   "cell_type": "code",
   "execution_count": null,
   "id": "a97e82b3",
   "metadata": {},
   "outputs": [],
   "source": [
    "sample_set = {1,43,23,45,67,22,21,32,0,25,3,66,66,0,23,43,1,\"a\",\"abc\"}\n",
    "type(sample_set)"
   ]
  },
  {
   "cell_type": "code",
   "execution_count": null,
   "id": "08c8bdd7",
   "metadata": {},
   "outputs": [],
   "source": [
    "sample_set"
   ]
  },
  {
   "cell_type": "code",
   "execution_count": null,
   "id": "a996ad0b",
   "metadata": {},
   "outputs": [],
   "source": [
    "sample_set[2]"
   ]
  },
  {
   "cell_type": "code",
   "execution_count": null,
   "id": "d86e2721",
   "metadata": {},
   "outputs": [],
   "source": [
    "sample_set.remove(43)\n",
    "sample_set"
   ]
  },
  {
   "cell_type": "code",
   "execution_count": null,
   "id": "f2a36b6b",
   "metadata": {},
   "outputs": [],
   "source": [
    "sample_set.add(99)\n",
    "sample_set"
   ]
  },
  {
   "cell_type": "code",
   "execution_count": null,
   "id": "6987a77e",
   "metadata": {},
   "outputs": [],
   "source": [
    "sample_set.pop() ### pop randomly picks an element"
   ]
  },
  {
   "cell_type": "code",
   "execution_count": null,
   "id": "48afe8cf",
   "metadata": {},
   "outputs": [],
   "source": [
    "sample_set.pop() ### pop randomly picks an element"
   ]
  },
  {
   "cell_type": "code",
   "execution_count": null,
   "id": "f45ce0d2",
   "metadata": {},
   "outputs": [],
   "source": [
    "sample_set.pop() ### pop randomly picks an element"
   ]
  },
  {
   "cell_type": "code",
   "execution_count": null,
   "id": "a7b06e15",
   "metadata": {},
   "outputs": [],
   "source": [
    "sample_set.pop() ### pop randomly picks an element"
   ]
  },
  {
   "cell_type": "code",
   "execution_count": null,
   "id": "c2d416f0",
   "metadata": {},
   "outputs": [],
   "source": [
    "sample_set.pop() ### pop randomly picks an element"
   ]
  },
  {
   "cell_type": "code",
   "execution_count": null,
   "id": "ee14b9ee",
   "metadata": {},
   "outputs": [],
   "source": [
    "sample_set.pop() ### pop randomly picks an element"
   ]
  },
  {
   "cell_type": "code",
   "execution_count": null,
   "id": "3459913b",
   "metadata": {},
   "outputs": [],
   "source": [
    "sample_set.pop() ### pop randomly picks an element"
   ]
  },
  {
   "cell_type": "code",
   "execution_count": null,
   "id": "5d67f612",
   "metadata": {},
   "outputs": [],
   "source": [
    "sample_set.pop() ### pop randomly picks an element"
   ]
  },
  {
   "cell_type": "code",
   "execution_count": null,
   "id": "e4ad790f",
   "metadata": {},
   "outputs": [],
   "source": [
    "sample_set.pop() ### pop randomly picks an element"
   ]
  },
  {
   "cell_type": "code",
   "execution_count": null,
   "id": "af2905df",
   "metadata": {},
   "outputs": [],
   "source": [
    "sample_set.pop() ### pop randomly picks an element"
   ]
  },
  {
   "cell_type": "code",
   "execution_count": null,
   "id": "4cb1ccf3",
   "metadata": {},
   "outputs": [],
   "source": [
    "sample_set.pop() ### pop randomly picks an element"
   ]
  },
  {
   "cell_type": "code",
   "execution_count": null,
   "id": "3925ef05",
   "metadata": {},
   "outputs": [],
   "source": [
    "sample_set.pop() ### pop randomly picks an element"
   ]
  },
  {
   "cell_type": "code",
   "execution_count": null,
   "id": "7f487cbd",
   "metadata": {},
   "outputs": [],
   "source": [
    "sample_set.pop() ### pop randomly picks an element"
   ]
  },
  {
   "cell_type": "code",
   "execution_count": null,
   "id": "44e34233",
   "metadata": {},
   "outputs": [],
   "source": [
    "sample_set.pop() ### pop randomly picks an element"
   ]
  },
  {
   "cell_type": "code",
   "execution_count": null,
   "id": "a43ebd85",
   "metadata": {},
   "outputs": [],
   "source": [
    "sample_set.pop() ### pop randomly picks an element"
   ]
  },
  {
   "cell_type": "markdown",
   "id": "6d9b11d4",
   "metadata": {},
   "source": [
    "#### # Dictionary\n",
    " \"\"\"\n",
    " 1. Dictionary has key value pair datastructure\n",
    " 2. Key is unique and value can be dublicated\n",
    " 3. Can retrieve the value using key\n",
    " 4. Can change the value using the key\n",
    " 5. Key is immutable\n",
    " \n",
    " \"\"\""
   ]
  },
  {
   "cell_type": "code",
   "execution_count": null,
   "id": "a1349642",
   "metadata": {},
   "outputs": [],
   "source": [
    "sample_dict = {\"a\":\"alpha\",1:\"first\",2:\"second\",3:\"third\",1:\"fourth\",5:\"fourth\",6:\"sixth\"}\n",
    "type(sample_dict)"
   ]
  },
  {
   "cell_type": "code",
   "execution_count": null,
   "id": "9e51463d",
   "metadata": {},
   "outputs": [],
   "source": [
    "sample_dict"
   ]
  },
  {
   "cell_type": "code",
   "execution_count": null,
   "id": "c8496700",
   "metadata": {},
   "outputs": [],
   "source": [
    "sample_dict[\"a\"]"
   ]
  },
  {
   "cell_type": "code",
   "execution_count": null,
   "id": "aeefff80",
   "metadata": {},
   "outputs": [],
   "source": [
    "sample_dict[5]"
   ]
  },
  {
   "cell_type": "code",
   "execution_count": null,
   "id": "227982f4",
   "metadata": {},
   "outputs": [],
   "source": [
    "sample_dict[5] = \"fifth\"\n",
    "sample_dict"
   ]
  },
  {
   "cell_type": "code",
   "execution_count": null,
   "id": "12fc6d66",
   "metadata": {},
   "outputs": [],
   "source": [
    "sample_dict[7] = \"seventh\"\n",
    "sample_dict"
   ]
  },
  {
   "cell_type": "code",
   "execution_count": null,
   "id": "e8a44a28",
   "metadata": {},
   "outputs": [],
   "source": [
    "sample_dict.reverse()"
   ]
  },
  {
   "cell_type": "code",
   "execution_count": null,
   "id": "c6cf2c4b",
   "metadata": {},
   "outputs": [],
   "source": [
    "sample_dict.add(34)\n",
    "sample_dict"
   ]
  },
  {
   "cell_type": "code",
   "execution_count": null,
   "id": "2adf4818",
   "metadata": {},
   "outputs": [],
   "source": [
    "sample_dict.append(34)\n",
    "sample_dict"
   ]
  },
  {
   "cell_type": "markdown",
   "id": "817d9ecc",
   "metadata": {},
   "source": [
    "#### #String\n",
    "\"\"\"\n",
    "1. String can be retrieved using index\n",
    "2. String is immutable\n",
    " \n",
    " \"\"\"\n"
   ]
  },
  {
   "cell_type": "code",
   "execution_count": null,
   "id": "71db67b8",
   "metadata": {},
   "outputs": [],
   "source": [
    "a = \"Hi how are you?\""
   ]
  },
  {
   "cell_type": "code",
   "execution_count": null,
   "id": "ac4b542f",
   "metadata": {},
   "outputs": [],
   "source": [
    "type(a)"
   ]
  },
  {
   "cell_type": "code",
   "execution_count": null,
   "id": "e658cb17",
   "metadata": {},
   "outputs": [],
   "source": [
    "a[1]"
   ]
  },
  {
   "cell_type": "code",
   "execution_count": null,
   "id": "c339f5f1",
   "metadata": {},
   "outputs": [],
   "source": [
    "a[2]"
   ]
  },
  {
   "cell_type": "code",
   "execution_count": null,
   "id": "3db77f90",
   "metadata": {},
   "outputs": [],
   "source": [
    "a[10]s"
   ]
  },
  {
   "cell_type": "code",
   "execution_count": null,
   "id": "48012f38",
   "metadata": {},
   "outputs": [],
   "source": [
    "a[11]"
   ]
  },
  {
   "cell_type": "code",
   "execution_count": null,
   "id": "a7a6d6b7",
   "metadata": {},
   "outputs": [],
   "source": [
    "a[3] = 'u'"
   ]
  },
  {
   "cell_type": "code",
   "execution_count": null,
   "id": "7da48865",
   "metadata": {},
   "outputs": [],
   "source": []
  }
 ],
 "metadata": {
  "kernelspec": {
   "display_name": "Python 3",
   "language": "python",
   "name": "python3"
  },
  "language_info": {
   "codemirror_mode": {
    "name": "ipython",
    "version": 3
   },
   "file_extension": ".py",
   "mimetype": "text/x-python",
   "name": "python",
   "nbconvert_exporter": "python",
   "pygments_lexer": "ipython3",
   "version": "3.8.8"
  }
 },
 "nbformat": 4,
 "nbformat_minor": 5
}
